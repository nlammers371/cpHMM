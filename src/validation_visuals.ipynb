{
 "cells": [
  {
   "cell_type": "code",
   "execution_count": 1,
   "metadata": {
    "collapsed": true
   },
   "outputs": [],
   "source": [
    "%matplotlib inline \n",
    "\n",
    "import numpy as np\n",
    "import scipy as sp\n",
    "from scipy import linalg\n",
    "import matplotlib as plt\n",
    "import pandas as pd\n",
    "import matplotlib\n",
    "from matplotlib import pyplot as plt\n",
    "import os"
   ]
  },
  {
   "cell_type": "markdown",
   "metadata": {},
   "source": [
    "Script to process and examine results of approximate BW and Viterbi HMM fitting. "
   ]
  },
  {
   "cell_type": "code",
   "execution_count": 2,
   "metadata": {
    "collapsed": true
   },
   "outputs": [],
   "source": [
    "#Set Paths\n",
    "root = \"../results\"\n",
    "folder = \"truncated_bw_testing\"\n",
    "subfolder = \"B_realistic_scenario\"\n",
    "test_name = \"eve2_2state_full_gene_1496646705.26\"\n",
    "\n",
    "readpath = os.path.join(root,folder,subfolder,test_name)"
   ]
  },
  {
   "cell_type": "markdown",
   "metadata": {},
   "source": [
    "### Example Plots\n",
    "Fit traces generated using true parameters using estimated parameters"
   ]
  },
  {
   "cell_type": "code",
   "execution_count": 3,
   "metadata": {
    "collapsed": false
   },
   "outputs": [
    {
     "name": "stdout",
     "output_type": "stream",
     "text": [
      "True Emission Rates: [  0.  25.]\n",
      "\n",
      "Estimated Emission Rates: [  0.68131718  25.38360072]\n",
      "\n",
      "True Off/On Rates: K_on = 0.0408 K_off = 0.1428\n",
      "\n",
      "Esimated Off/On Rates: K_on = 0.00394436732567 K_off = 0.0141980172347\n"
     ]
    }
   ],
   "source": [
    "from utilities.functions import generate_traces_gill\n",
    "from utilities.stack_decoder import decode_cp\n",
    "\n",
    "#Basic Test Parameters\n",
    "K = 2\n",
    "dt = 10.2\n",
    "#Read in true param values\n",
    "true_params = pd.read_csv(os.path.join(readpath,\"true_values.csv\"),header=None)\n",
    "R_true = np.reshape(true_params.iloc[0,:K**2],(K,K))\n",
    "v_true = np.array(true_params.iloc[0,K**2:K**2 + K])\n",
    "sigma_true = np.array(true_params.iloc[0,K**2 + 1])\n",
    "pi = np.array(true_params.iloc[0,-K:])\n",
    "\n",
    "#Read in best estimated param values\n",
    "inf_params = pd.read_csv(os.path.join(readpath,\"best_results.csv\"),header=None)\n",
    "R_inf = np.reshape(inf_params.iloc[0,:K**2],(K,K))\n",
    "v_inf = np.array(inf_params.iloc[0,K**2:K**2 + K])\n",
    "sigma_inf = np.array(inf_params.iloc[0,-K-1])\n",
    "\n",
    "print(\"True Emission Rates: \" + str(v_true))\n",
    "print(\"\")\n",
    "print(\"Estimated Emission Rates: \" + str(v_inf))\n",
    "print(\"\")\n",
    "print(\"True Off/On Rates: \" + \"K_on = \" + str(R_true[1,0]) + \" K_off = \" + str(R_true[0,1]))\n",
    "print(\"\")\n",
    "print(\"Esimated Off/On Rates: \" + \"K_on = \" + str(R_inf[1,0]) + \" K_off = \" + str(R_inf[0,1]))"
   ]
  },
  {
   "cell_type": "markdown",
   "metadata": {},
   "source": [
    "##### Make Plots"
   ]
  },
  {
   "cell_type": "code",
   "execution_count": 23,
   "metadata": {
    "collapsed": false
   },
   "outputs": [
    {
     "name": "stdout",
     "output_type": "stream",
     "text": [
      "Done: 13.3740000725s\n"
     ]
    }
   ],
   "source": [
    "import time\n",
    "start_time = time.time()\n",
    "n_traces = 10\n",
    "trace_length = 200\n",
    "stack_depth = 50\n",
    "w = 15\n",
    "#Generate Traces \n",
    "promoter_states, fluo_states, promoter_states_discrete, fluo_states_nn = \\\n",
    "        generate_traces_gill(w, trace_length, n_traces, r_mat=R_true, v=v_true, noise_level=0.1, alpha=3.0, pi0=pi)\n",
    "\n",
    "#Decode\n",
    "seq_out, f_out, v_out, logL_out = decode_cp(fluo_states, np.log(sp.linalg.expm(R_inf*dt)), np.log(pi), v_inf, w, \\\n",
    "                                            0.1, stack_depth=stack_depth, alpha=3.0)\n",
    "    \n",
    "plotpath = os.path.join(readpath, 'trace_plots')\n",
    "if not os.path.isdir(plotpath):\n",
    "    os.makedirs(plotpath)\n",
    "for tr in xrange(n_traces):\n",
    "    fig_fluo = plt.figure(figsize=(12, 4))\n",
    "    ax = plt.subplot(1, 1, 1)\n",
    "    ax.plot(fluo_states[tr], c='g', alpha=0.4, label='Actual')\n",
    "    ax.plot(f_out[tr], c='b', label='Predicted')\n",
    "\n",
    "    # plt.legend()\n",
    "    fig_fluo.savefig(os.path.join(plotpath, 'tr' + \"_\" + str(tr) + \"_fluo.png\"))\n",
    "    plt.close()\n",
    "\n",
    "    fig_prom = plt.figure(figsize=(12, 4))\n",
    "    ax = plt.subplot(1, 1, 1)\n",
    "    ax.plot(promoter_states[tr], c='g', alpha=0.4, label='Actual')\n",
    "    ax.plot(v_out[tr], c='b', label='Predicted')\n",
    "    plt.ylim([0, 1.1 * np.max(v_true)])\n",
    "    # plt.legend()\n",
    "    fig_prom.savefig(os.path.join(plotpath, 'tr' + \"_\" + str(tr) + \"_promoter.png\"))\n",
    "    plt.close()\n",
    "print(\"Done: \" + str(time.time()-start_time) + \"s\")"
   ]
  },
  {
   "cell_type": "code",
   "execution_count": 25,
   "metadata": {
    "collapsed": false
   },
   "outputs": [
    {
     "data": {
      "image/png": "[encoded data removed]",
      "text/plain": [
       "<matplotlib.figure.Figure at 0xbe839e8>"
      ]
     },
     "metadata": {},
     "output_type": "display_data"
    }
   ],
   "source": [
    "tr = 1\n",
    "fig_fluo = plt.figure(figsize=(12, 4))\n",
    "ax = plt.subplot(1, 1, 1)\n",
    "ax.plot(fluo_states[tr], c='g', alpha=0.4, label='Actual')\n",
    "ax.plot(f_out[tr], c='b', label='Predicted')\n",
    "plt.show()"
   ]
  },
  {
   "cell_type": "code",
   "execution_count": 20,
   "metadata": {
    "collapsed": false
   },
   "outputs": [
    {
     "data": {
      "image/png": "[encoded data removed]",
      "text/plain": [
       "<matplotlib.figure.Figure at 0xa93b390>"
      ]
     },
     "metadata": {},
     "output_type": "display_data"
    }
   ],
   "source": [
    "tr = 3\n",
    "fig_fluo = plt.figure(figsize=(12, 4))\n",
    "ax = plt.subplot(1, 1, 1)\n",
    "ax.plot(promoter_states[tr], c='g', alpha=0.4, label='Actual')\n",
    "ax.plot(v_out[tr], c='b', label='Predicted')\n",
    "plt.show()"
   ]
  },
  {
   "cell_type": "code",
   "execution_count": null,
   "metadata": {
    "collapsed": true
   },
   "outputs": [],
   "source": [
    ""
   ]
  },
  {
   "cell_type": "code",
   "execution_count": null,
   "metadata": {
    "collapsed": true
   },
   "outputs": [],
   "source": [
    ""
   ]
  }
 ],
 "metadata": {
  "anaconda-cloud": {},
  "kernelspec": {
   "display_name": "Python [Root]",
   "language": "python",
   "name": "Python [Root]"
  },
  "language_info": {
   "codemirror_mode": {
    "name": "ipython",
    "version": 2.0
   },
   "file_extension": ".py",
   "mimetype": "text/x-python",
   "name": "python",
   "nbconvert_exporter": "python",
   "pygments_lexer": "ipython2",
   "version": "2.7.12"
  }
 },
 "nbformat": 4,
 "nbformat_minor": 0
}